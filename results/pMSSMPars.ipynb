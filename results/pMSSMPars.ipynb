{
 "cells": [
  {
   "cell_type": "code",
   "execution_count": 1,
   "metadata": {},
   "outputs": [],
   "source": [
    "import numpy as np\n",
    "import tempfile\n",
    "import os\n",
    "import subprocess\n",
    "import pyslha\n",
    "from scipy import optimize\n",
    "import itertools\n",
    "import time,glob\n",
    "import matplotlib.pyplot as plt\n",
    "import seaborn as sns\n",
    "import shutil\n",
    "#Define plotting style:\n",
    "sns.set() #Set style\n",
    "sns.set_style('ticks',{'font.family':'serif', 'font.serif':'Times New Roman'})\n",
    "sns.set_context('paper', font_scale=1.8)\n",
    "cm = plt.cm.get_cmap('RdYlBu')"
   ]
  },
  {
   "cell_type": "code",
   "execution_count": 2,
   "metadata": {},
   "outputs": [],
   "source": [
    "class Parameters(object):\n",
    "    \n",
    "    def __init__(self,**kwargs):\n",
    "        object.__setattr__(self,'parsMapping',{1 : 'M1', 2: 'M2', 3: 'M3', \n",
    "                        11: 'At', 12: 'Ab', 13: 'Ata', \n",
    "                        23: 'mu', 25: 'tanb', 26: 'mA0', \n",
    "                        31: 'meL', 32: 'mmuL', 33: 'mtaL', 34: 'meR', \n",
    "                        35: 'mmuR', 36: 'mtaR', 41: 'mq1L', 42: 'mq2L', 43: 'mq3L', \n",
    "                        44: 'muR', 45: 'mcR', 46: 'mtR', 47: 'mdR', 48: 'msR', 49: 'mbR'})       \n",
    "        \n",
    "        for k,v in kwargs.items():\n",
    "            setattr(self,k,v)\n",
    "            \n",
    "    def __setattr__(self,attr,val):\n",
    "        if not isinstance(val,Parameter):\n",
    "            if hasattr(self,attr):\n",
    "                object.__getattribute__(self,attr).value = val\n",
    "            else:\n",
    "                object.__setattr__(self,attr,Parameter(label=attr,value=val))\n",
    "        else:\n",
    "            object.__setattr__(self,attr,val)\n",
    "            \n",
    "    def getEXTPARDict(self):\n",
    "        \n",
    "        blockDict = {0: -1}\n",
    "        for k,attr in self.parsMapping.items():\n",
    "            \n",
    "            blockDict[k] = getattr(self,attr).value\n",
    "        return blockDict\n",
    "        \n",
    "class Parameter(object):\n",
    "    \n",
    "    def __init__(self,label=None,value=None):\n",
    "        self.value = value\n",
    "        self.label = label\n",
    "        \n",
    "    def __str__(self):\n",
    "        return '%s = %s' %(self.label,self.value)\n",
    "    \n",
    "    def __repr__(self):\n",
    "        return str(self)"
   ]
  },
  {
   "cell_type": "code",
   "execution_count": 3,
   "metadata": {},
   "outputs": [],
   "source": [
    "def runSoftSusy(blockDict,inputFile=None,outputFile=None,removeInput=True):\n",
    "    if not inputFile:\n",
    "        fInput,inputFile = tempfile.mkstemp(suffix='.in',dir='./',prefix='pars_')\n",
    "        os.close(fInput)\n",
    "    with open(inputFile,'w') as f:\n",
    "        for block in blockDict:\n",
    "            f.write('BLOCK %s \\n' %block.upper())\n",
    "            for key,val in sorted(blockDict[block].items()):\n",
    "                f.write('  %i   %1.5e\\n' %(key,val))       \n",
    "    try:\n",
    "        output = subprocess.check_output('./softpoint.x leshouches < %s' %inputFile, shell=True, text=True,\n",
    "                                    stderr=subprocess.STDOUT)\n",
    "    except subprocess.CalledProcessError as e:\n",
    "        output = e.output\n",
    "    if not outputFile:\n",
    "        outputFile = inputFile.replace('.in','.out')\n",
    "    with open(outputFile,'w') as f:\n",
    "        f.write(output)\n",
    "    if removeInput:\n",
    "        os.remove(inputFile)\n",
    "    return outputFile"
   ]
  },
  {
   "cell_type": "code",
   "execution_count": 4,
   "metadata": {},
   "outputs": [],
   "source": [
    "def getmHDiff(At,softPars):\n",
    "    softPars.At = At\n",
    "    blocks['EXTPAR'] = softPars.getEXTPARDict()\n",
    "    out = runSoftSusy(blocks)\n",
    "    r = pyslha.readSLHAFile(out)\n",
    "    mH = r.blocks['MASS'][25]\n",
    "    os.remove(out)\n",
    "    return abs(mH-125.0)\n",
    "\n",
    "\n",
    "def getErrors(slhafile):\n",
    "    errors = {}\n",
    "    with open(slhafile,'r') as fdata:\n",
    "        data = fdata.read()\n",
    "        data = data[data.find('Block SPINFO'):data.find('Block MODSEL')]\n",
    "        data = data.splitlines()\n",
    "        for l in data[1:]:\n",
    "            if l.startswith('#'):\n",
    "                continue\n",
    "            l = l[:l.find('#')]\n",
    "            i,v = l.split(maxsplit=1)[:2]\n",
    "            if eval(i) > 2:\n",
    "                msg = v.strip()\n",
    "                errors[i] = msg\n",
    "    return errors\n",
    "\n",
    "\n",
    "def checkGoodPoint(At,softPars):\n",
    "\n",
    "    softPars.At = At\n",
    "    blocks['EXTPAR'] = softPars.getEXTPARDict()\n",
    "    out = runSoftSusy(blocks)\n",
    "    errorsDict = getErrors(out)\n",
    "    if errorsDict:\n",
    "        return -1\n",
    "    else:\n",
    "        return 1"
   ]
  },
  {
   "cell_type": "code",
   "execution_count": 5,
   "metadata": {},
   "outputs": [],
   "source": [
    "blocks = {}\n",
    "blocks['MODSEL'] = {1: 0 }# (0 = MSSM)\n",
    "blocks['SMINPUTS'] = {1: 1.279340000e+02, # alpha^(-1) SM MSbar(MZ)\n",
    "                     2 : 1.166370000e-05, # G_Fermi\n",
    "                     3: 1.172000000e-01, # alpha_s(MZ) SM MSbar\n",
    "                     4: 9.118760000e+01, # MZ(pole)\n",
    "                     5: 4.250000000e+00, # mb(mb) SM MSbar\n",
    "                     6: 1.743000000e+02, # mtop(pole)\n",
    "                     7: 1.777000000e+00} # mtau(pole)\n",
    "\n",
    "blocks['SOFTSUSY'] = {0: 1, # Calculate decays in output (only for RPC (N)MSSM)\n",
    "                     1: 1e-3, # Numerical precision: suggested range 10^(-3...-6)\n",
    "                     2: 0, # Quark mixing parameter: see manual\n",
    "                     3: 0, # Additional verbose output?\n",
    "                     4: 1, # Change electroweak symmetry breaking scale?\n",
    "                     5: 1, # Include 2-loop scalar mass squared/trilinear RGEs\n",
    "                     6: 1e-4, # Numerical precision\n",
    "                     7: 2, # Number of loops in Higgs mass computation\n",
    "                     10: 0, # Force it to SLHA***1*** output?\n",
    "                     11: 1e19, # Gravitino mass\n",
    "                     12: 1, # Print spectrum even when point disallowed\n",
    "                     13: 0} # Set a tachyonic A^0 to zero mass"
   ]
  },
  {
   "cell_type": "code",
   "execution_count": 6,
   "metadata": {},
   "outputs": [],
   "source": [
    "softPars = Parameters()\n",
    "softPars.mHeavy = 5e3\n",
    "softPars.mLight = 5e2"
   ]
  },
  {
   "cell_type": "code",
   "execution_count": 7,
   "metadata": {},
   "outputs": [],
   "source": [
    "softPars.M2 = softPars.mHeavy  #Wino mass\n",
    "softPars.mA0 = softPars.mHeavy\n",
    "softPars.meL = softPars.mmuL = softPars.mtaL = softPars.mHeavy\n",
    "softPars.meR = softPars.mmuR = softPars.mtaR = softPars.mHeavy\n",
    "softPars.mq1L = softPars.mq2L = softPars.mHeavy\n",
    "softPars.muR = softPars.mcR = softPars.mdR = softPars.msR = softPars.mbR = softPars.mHeavy\n",
    "softPars.mu = softPars.mHeavy\n",
    "softPars.Ata = 0. #Tau trilinear\n",
    "\n",
    "softPars.tanb = 30.\n",
    "softPars.M1 = 100.\n",
    "softPars.M3 = 1e3\n",
    "softPars.mtR = 500.\n",
    "softPars.mq3L = 500.\n",
    "softPars.At = 2*np.sqrt(softPars.mq3L.value*softPars.mtR.value)\n",
    "softPars.Ab = softPars.At"
   ]
  },
  {
   "cell_type": "code",
   "execution_count": 8,
   "metadata": {},
   "outputs": [],
   "source": [
    "M1list = np.linspace(10.,800.,15)\n",
    "M3list = np.linspace(2000.,2000.,1)\n",
    "mtRlist = np.linspace(200.,2000.,20)\n",
    "mq3Llist = np.linspace(200.,2000.,20)"
   ]
  },
  {
   "cell_type": "code",
   "execution_count": 9,
   "metadata": {},
   "outputs": [
    {
     "ename": "KeyboardInterrupt",
     "evalue": "",
     "output_type": "error",
     "traceback": [
      "\u001b[0;31m---------------------------------------------------------------------------\u001b[0m",
      "\u001b[0;31mKeyboardInterrupt\u001b[0m                         Traceback (most recent call last)",
      "\u001b[0;32m<ipython-input-9-8f3a3dd5b7c8>\u001b[0m in \u001b[0;36m<module>\u001b[0;34m\u001b[0m\n\u001b[1;32m     11\u001b[0m     \u001b[0msoftPars\u001b[0m\u001b[0;34m.\u001b[0m\u001b[0mAb\u001b[0m \u001b[0;34m=\u001b[0m \u001b[0msoftPars\u001b[0m\u001b[0;34m.\u001b[0m\u001b[0mAt\u001b[0m\u001b[0;34m\u001b[0m\u001b[0;34m\u001b[0m\u001b[0m\n\u001b[1;32m     12\u001b[0m     \u001b[0mblocks\u001b[0m\u001b[0;34m[\u001b[0m\u001b[0;34m'EXTPAR'\u001b[0m\u001b[0;34m]\u001b[0m \u001b[0;34m=\u001b[0m \u001b[0msoftPars\u001b[0m\u001b[0;34m.\u001b[0m\u001b[0mgetEXTPARDict\u001b[0m\u001b[0;34m(\u001b[0m\u001b[0;34m)\u001b[0m\u001b[0;34m\u001b[0m\u001b[0;34m\u001b[0m\u001b[0m\n\u001b[0;32m---> 13\u001b[0;31m     \u001b[0mout\u001b[0m \u001b[0;34m=\u001b[0m \u001b[0mrunSoftSusy\u001b[0m\u001b[0;34m(\u001b[0m\u001b[0mblocks\u001b[0m\u001b[0;34m,\u001b[0m\u001b[0moutputFile\u001b[0m\u001b[0;34m=\u001b[0m\u001b[0;34m'scan_%i.slha'\u001b[0m\u001b[0;34m%\u001b[0m\u001b[0mnfile\u001b[0m\u001b[0;34m)\u001b[0m\u001b[0;34m\u001b[0m\u001b[0;34m\u001b[0m\u001b[0m\n\u001b[0m\u001b[1;32m     14\u001b[0m     \u001b[0mnfile\u001b[0m \u001b[0;34m+=\u001b[0m \u001b[0;36m1\u001b[0m\u001b[0;34m\u001b[0m\u001b[0;34m\u001b[0m\u001b[0m\n\u001b[1;32m     15\u001b[0m \u001b[0mprint\u001b[0m\u001b[0;34m(\u001b[0m\u001b[0;34m'Done in %1.3f min'\u001b[0m \u001b[0;34m%\u001b[0m\u001b[0;34m(\u001b[0m\u001b[0;34m(\u001b[0m\u001b[0mtime\u001b[0m\u001b[0;34m.\u001b[0m\u001b[0mtime\u001b[0m\u001b[0;34m(\u001b[0m\u001b[0;34m)\u001b[0m\u001b[0;34m-\u001b[0m\u001b[0mt0\u001b[0m\u001b[0;34m)\u001b[0m\u001b[0;34m/\u001b[0m\u001b[0;36m60.\u001b[0m\u001b[0;34m)\u001b[0m\u001b[0;34m)\u001b[0m\u001b[0;34m\u001b[0m\u001b[0;34m\u001b[0m\u001b[0m\n",
      "\u001b[0;32m<ipython-input-3-01468459e047>\u001b[0m in \u001b[0;36mrunSoftSusy\u001b[0;34m(blockDict, inputFile, outputFile, removeInput)\u001b[0m\n\u001b[1;32m     10\u001b[0m     \u001b[0;32mtry\u001b[0m\u001b[0;34m:\u001b[0m\u001b[0;34m\u001b[0m\u001b[0;34m\u001b[0m\u001b[0m\n\u001b[1;32m     11\u001b[0m         output = subprocess.check_output('./softpoint.x leshouches < %s' %inputFile, shell=True, text=True,\n\u001b[0;32m---> 12\u001b[0;31m                                     stderr=subprocess.STDOUT)\n\u001b[0m\u001b[1;32m     13\u001b[0m     \u001b[0;32mexcept\u001b[0m \u001b[0msubprocess\u001b[0m\u001b[0;34m.\u001b[0m\u001b[0mCalledProcessError\u001b[0m \u001b[0;32mas\u001b[0m \u001b[0me\u001b[0m\u001b[0;34m:\u001b[0m\u001b[0;34m\u001b[0m\u001b[0;34m\u001b[0m\u001b[0m\n\u001b[1;32m     14\u001b[0m         \u001b[0moutput\u001b[0m \u001b[0;34m=\u001b[0m \u001b[0me\u001b[0m\u001b[0;34m.\u001b[0m\u001b[0moutput\u001b[0m\u001b[0;34m\u001b[0m\u001b[0;34m\u001b[0m\u001b[0m\n",
      "\u001b[0;32m/usr/lib/python3.7/subprocess.py\u001b[0m in \u001b[0;36mcheck_output\u001b[0;34m(timeout, *popenargs, **kwargs)\u001b[0m\n\u001b[1;32m    393\u001b[0m \u001b[0;34m\u001b[0m\u001b[0m\n\u001b[1;32m    394\u001b[0m     return run(*popenargs, stdout=PIPE, timeout=timeout, check=True,\n\u001b[0;32m--> 395\u001b[0;31m                **kwargs).stdout\n\u001b[0m\u001b[1;32m    396\u001b[0m \u001b[0;34m\u001b[0m\u001b[0m\n\u001b[1;32m    397\u001b[0m \u001b[0;34m\u001b[0m\u001b[0m\n",
      "\u001b[0;32m/usr/lib/python3.7/subprocess.py\u001b[0m in \u001b[0;36mrun\u001b[0;34m(input, capture_output, timeout, check, *popenargs, **kwargs)\u001b[0m\n\u001b[1;32m    472\u001b[0m     \u001b[0;32mwith\u001b[0m \u001b[0mPopen\u001b[0m\u001b[0;34m(\u001b[0m\u001b[0;34m*\u001b[0m\u001b[0mpopenargs\u001b[0m\u001b[0;34m,\u001b[0m \u001b[0;34m**\u001b[0m\u001b[0mkwargs\u001b[0m\u001b[0;34m)\u001b[0m \u001b[0;32mas\u001b[0m \u001b[0mprocess\u001b[0m\u001b[0;34m:\u001b[0m\u001b[0;34m\u001b[0m\u001b[0;34m\u001b[0m\u001b[0m\n\u001b[1;32m    473\u001b[0m         \u001b[0;32mtry\u001b[0m\u001b[0;34m:\u001b[0m\u001b[0;34m\u001b[0m\u001b[0;34m\u001b[0m\u001b[0m\n\u001b[0;32m--> 474\u001b[0;31m             \u001b[0mstdout\u001b[0m\u001b[0;34m,\u001b[0m \u001b[0mstderr\u001b[0m \u001b[0;34m=\u001b[0m \u001b[0mprocess\u001b[0m\u001b[0;34m.\u001b[0m\u001b[0mcommunicate\u001b[0m\u001b[0;34m(\u001b[0m\u001b[0minput\u001b[0m\u001b[0;34m,\u001b[0m \u001b[0mtimeout\u001b[0m\u001b[0;34m=\u001b[0m\u001b[0mtimeout\u001b[0m\u001b[0;34m)\u001b[0m\u001b[0;34m\u001b[0m\u001b[0;34m\u001b[0m\u001b[0m\n\u001b[0m\u001b[1;32m    475\u001b[0m         \u001b[0;32mexcept\u001b[0m \u001b[0mTimeoutExpired\u001b[0m\u001b[0;34m:\u001b[0m\u001b[0;34m\u001b[0m\u001b[0;34m\u001b[0m\u001b[0m\n\u001b[1;32m    476\u001b[0m             \u001b[0mprocess\u001b[0m\u001b[0;34m.\u001b[0m\u001b[0mkill\u001b[0m\u001b[0;34m(\u001b[0m\u001b[0;34m)\u001b[0m\u001b[0;34m\u001b[0m\u001b[0;34m\u001b[0m\u001b[0m\n",
      "\u001b[0;32m/usr/lib/python3.7/subprocess.py\u001b[0m in \u001b[0;36mcommunicate\u001b[0;34m(self, input, timeout)\u001b[0m\n\u001b[1;32m    924\u001b[0m                 \u001b[0mself\u001b[0m\u001b[0;34m.\u001b[0m\u001b[0m_stdin_write\u001b[0m\u001b[0;34m(\u001b[0m\u001b[0minput\u001b[0m\u001b[0;34m)\u001b[0m\u001b[0;34m\u001b[0m\u001b[0;34m\u001b[0m\u001b[0m\n\u001b[1;32m    925\u001b[0m             \u001b[0;32melif\u001b[0m \u001b[0mself\u001b[0m\u001b[0;34m.\u001b[0m\u001b[0mstdout\u001b[0m\u001b[0;34m:\u001b[0m\u001b[0;34m\u001b[0m\u001b[0;34m\u001b[0m\u001b[0m\n\u001b[0;32m--> 926\u001b[0;31m                 \u001b[0mstdout\u001b[0m \u001b[0;34m=\u001b[0m \u001b[0mself\u001b[0m\u001b[0;34m.\u001b[0m\u001b[0mstdout\u001b[0m\u001b[0;34m.\u001b[0m\u001b[0mread\u001b[0m\u001b[0;34m(\u001b[0m\u001b[0;34m)\u001b[0m\u001b[0;34m\u001b[0m\u001b[0;34m\u001b[0m\u001b[0m\n\u001b[0m\u001b[1;32m    927\u001b[0m                 \u001b[0mself\u001b[0m\u001b[0;34m.\u001b[0m\u001b[0mstdout\u001b[0m\u001b[0;34m.\u001b[0m\u001b[0mclose\u001b[0m\u001b[0;34m(\u001b[0m\u001b[0;34m)\u001b[0m\u001b[0;34m\u001b[0m\u001b[0;34m\u001b[0m\u001b[0m\n\u001b[1;32m    928\u001b[0m             \u001b[0;32melif\u001b[0m \u001b[0mself\u001b[0m\u001b[0;34m.\u001b[0m\u001b[0mstderr\u001b[0m\u001b[0;34m:\u001b[0m\u001b[0;34m\u001b[0m\u001b[0;34m\u001b[0m\u001b[0m\n",
      "\u001b[0;31mKeyboardInterrupt\u001b[0m: "
     ]
    }
   ],
   "source": [
    "nfile = 0\n",
    "t0 = time.time()\n",
    "for pt in itertools.product(M1list,M3list,mtRlist,mq3Llist):\n",
    "    if min(pt) != pt[0]:\n",
    "        continue\n",
    "    softPars.M1 = pt[0]\n",
    "    softPars.M3 = pt[1]\n",
    "    softPars.mtR = pt[2]\n",
    "    softPars.mq3L = pt[3]\n",
    "    softPars.At = 2*np.sqrt(softPars.mq3L.value*softPars.mtR.value)\n",
    "    softPars.Ab = softPars.At\n",
    "    blocks['EXTPAR'] = softPars.getEXTPARDict()\n",
    "    out = runSoftSusy(blocks,outputFile='scan_%i.slha'%nfile)\n",
    "    nfile += 1\n",
    "print('Done in %1.3f min' %((time.time()-t0)/60.))"
   ]
  },
  {
   "cell_type": "code",
   "execution_count": 10,
   "metadata": {},
   "outputs": [],
   "source": [
    "errors = {}\n",
    "for f in glob.glob('scan_results/scan*slha'):\n",
    "    errorDict = getErrors(f)\n",
    "    for msg in errorDict.values():\n",
    "        if not msg in errors:\n",
    "            errors[msg] = [os.path.basename(f)]\n",
    "        else:\n",
    "            errors[msg].append(os.path.basename(f))"
   ]
  },
  {
   "cell_type": "code",
   "execution_count": 11,
   "metadata": {},
   "outputs": [
    {
     "name": "stdout",
     "output_type": "stream",
     "text": [
      "[ stop tachyon ] 1042\n",
      "stop LSP 1275\n",
      "sbottom LSP 481\n",
      "[ sbottom tachyon ] 2122\n",
      "Possible problem: Not achieved desired accuracy of 1.00000000e-03- got 1.45828146e-02 1\n",
      "[ No convergence sbottom tachyon ] 4\n",
      "Possible problem: Not achieved desired accuracy of 1.00000000e-03- got 1.59834466e-02 1\n",
      "[ hpm tachyon ] 4\n",
      "Possible problem: Not achieved desired accuracy of 1.00000000e-03- got 1.40423259e-02 1\n",
      "Possible problem: Not achieved desired accuracy of 1.00000000e-03- got 1.52170842e-02 1\n",
      "Total= 3652\n"
     ]
    }
   ],
   "source": [
    "ntotal = []\n",
    "for k in errors.keys():\n",
    "    print(k,len(errors[k]))\n",
    "    ntotal += errors[k]\n",
    "ntotal = list(set(ntotal))\n",
    "print('Total=',len(set(ntotal)))"
   ]
  },
  {
   "cell_type": "code",
   "execution_count": 12,
   "metadata": {},
   "outputs": [
    {
     "name": "stdout",
     "output_type": "stream",
     "text": [
      "2037\n"
     ]
    }
   ],
   "source": [
    "goodF = []\n",
    "for f in glob.glob('scan_results/scan*slha'):\n",
    "    if not os.path.basename(f) in ntotal:\n",
    "        goodF.append(os.path.basename(f))\n",
    "print(len(goodF))"
   ]
  },
  {
   "cell_type": "code",
   "execution_count": 13,
   "metadata": {},
   "outputs": [],
   "source": [
    "softPars = Parameters()\n",
    "for f in goodF:\n",
    "    if os.path.isfile('./new_scan_results/new_'+f):\n",
    "        continue\n",
    "    r = pyslha.readSLHAFile('./scan_results/'+f)\n",
    "    #Do not optimize if difference is below 1 GeV\n",
    "    if abs(r.blocks['MASS'][25]-125.) < 1.:\n",
    "        shutil.copy('./scan_results/'+f,'./new_scan_results/new_'+f)\n",
    "        continue\n",
    "    for ipar,val in r.blocks['EXTPAR'].items():\n",
    "        if ipar in softPars.parsMapping:\n",
    "            par = softPars.parsMapping[ipar]\n",
    "            setattr(softPars,par,val)            \n",
    "    Atbest = optimize.minimize(getmHDiff,x0=softPars.At.value,\n",
    "                              method='COBYLA',tol=0.1,args=softPars,\n",
    "                           options={'rhobeg': 0.1*softPars.At.value, 'tol' : 1e-1},\n",
    "                          constraints={'type' : 'ineq', \n",
    "                                       'fun' : checkGoodPoint, 'args' : (softPars,)})         \n",
    "    softPars.At = Atbest.x\n",
    "    blocks['EXTPAR'] = softPars.getEXTPARDict()\n",
    "    out = runSoftSusy(blocks,outputFile='./new_scan_results/new_'+f)\n",
    "    if getErrors(out):\n",
    "        os.remove('./new_scan_results/new_'+f)\n",
    "        shutil.copy('./scan_results/'+f,'./new_scan_results/new_'+f)"
   ]
  },
  {
   "cell_type": "code",
   "execution_count": 14,
   "metadata": {},
   "outputs": [],
   "source": [
    "mHnew = []\n",
    "mHold = []\n",
    "for f in glob.glob('new_scan_results/*slha'):\n",
    "    mHnew.append(pyslha.readSLHAFile(f).blocks['MASS'][25])\n",
    "    mHold.append(pyslha.readSLHAFile('./scan_results/'+os.path.basename(f).replace('new_','')).blocks['MASS'][25])\n",
    "#     if mHnew[-1] < 100.:\n",
    "#         print(f)\n",
    "#         print(mHnew[-1],mHold[-1])\n",
    "#         break"
   ]
  },
  {
   "cell_type": "code",
   "execution_count": 17,
   "metadata": {},
   "outputs": [
    {
     "data": {
      "image/png": "[encoded data removed]",
      "text/plain": [
       "<Figure size 432x288 with 1 Axes>"
      ]
     },
     "metadata": {},
     "output_type": "display_data"
    }
   ],
   "source": [
    "bins = np.linspace(90.,130.,100)\n",
    "plt.hist(mHnew,bins=bins,label='new',histtype='bar',linewidth=2)\n",
    "plt.hist(mHold,bins=bins,label='old',histtype='step',linewidth=2)\n",
    "plt.legend()\n",
    "plt.xlim(120.,130.)\n",
    "plt.yscale('log')\n",
    "plt.show()"
   ]
  },
  {
   "cell_type": "code",
   "execution_count": null,
   "metadata": {},
   "outputs": [],
   "source": []
  }
 ],
 "metadata": {
  "kernelspec": {
   "display_name": "Python 3",
   "language": "python",
   "name": "python3"
  },
  "language_info": {
   "codemirror_mode": {
    "name": "ipython",
    "version": 3
   },
   "file_extension": ".py",
   "mimetype": "text/x-python",
   "name": "python",
   "nbconvert_exporter": "python",
   "pygments_lexer": "ipython3",
   "version": "3.7.3"
  }
 },
 "nbformat": 4,
 "nbformat_minor": 2
}
