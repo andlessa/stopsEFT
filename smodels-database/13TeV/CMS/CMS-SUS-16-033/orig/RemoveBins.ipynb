{
 "metadata": {
  "name": "",
  "signature": "sha256:8f74804a204838de2c8d2ef55bb51db089a64ae797a59242353f157074c54bbe"
 },
 "nbformat": 3,
 "nbformat_minor": 0,
 "worksheets": [
  {
   "cells": [
    {
     "cell_type": "code",
     "collapsed": false,
     "input": [
      "import ROOT"
     ],
     "language": "python",
     "metadata": {},
     "outputs": [],
     "prompt_number": 1
    },
    {
     "cell_type": "code",
     "collapsed": false,
     "input": [
      "f = ROOT.TFile(\"CMS-SUS-16-033_Figure_013-a.root\", \"update\")"
     ],
     "language": "python",
     "metadata": {},
     "outputs": [],
     "prompt_number": 2
    },
    {
     "cell_type": "code",
     "collapsed": false,
     "input": [
      "h = ROOT.gDirectory.Get(\"MassScan2D\")"
     ],
     "language": "python",
     "metadata": {},
     "outputs": [],
     "prompt_number": 3
    },
    {
     "cell_type": "code",
     "collapsed": false,
     "input": [
      "hFix = h.Clone()\n",
      "hFix.SetName(\"MassScan2DRemoved\")"
     ],
     "language": "python",
     "metadata": {},
     "outputs": [],
     "prompt_number": 4
    },
    {
     "cell_type": "code",
     "collapsed": false,
     "input": [
      "for i in range(1,hFix.GetNbinsX() + 1):\n",
      "    for j in range(1,hFix.GetNbinsY() + 1):\n",
      "        xval = hFix.GetXaxis().GetBinCenter(i)\n",
      "        yval = hFix.GetYaxis().GetBinCenter(j)\n",
      "        if -200. < yval-xval < -150. and  xval+yval < 370.:\n",
      "            ibin = hFix.GetBin(i,j)\n",
      "            hFix.SetBinContent(ibin,0.)"
     ],
     "language": "python",
     "metadata": {},
     "outputs": [],
     "prompt_number": 5
    },
    {
     "cell_type": "code",
     "collapsed": false,
     "input": [
      "hFix.Draw(\"COLZ\")"
     ],
     "language": "python",
     "metadata": {},
     "outputs": [],
     "prompt_number": 6
    },
    {
     "cell_type": "code",
     "collapsed": false,
     "input": [
      "hFix.Write(\"MassScan2DRemoved\")\n",
      "f.Close()"
     ],
     "language": "python",
     "metadata": {},
     "outputs": [],
     "prompt_number": 7
    },
    {
     "cell_type": "code",
     "collapsed": false,
     "input": [],
     "language": "python",
     "metadata": {},
     "outputs": []
    }
   ],
   "metadata": {}
  }
 ]
}