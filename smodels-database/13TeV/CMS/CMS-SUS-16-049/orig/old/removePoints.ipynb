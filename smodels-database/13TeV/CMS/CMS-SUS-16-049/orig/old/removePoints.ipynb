{
 "metadata": {
  "name": "",
  "signature": "sha256:b2bb323ee085ef02267fa156dd27ed1978253f0d149d897232feb25ba55f2b64"
 },
 "nbformat": 3,
 "nbformat_minor": 0,
 "worksheets": [
  {
   "cells": [
    {
     "cell_type": "code",
     "collapsed": false,
     "input": [
      "import ROOT\n",
      "import numpy as np\n",
      "import matplotlib.pyplot as plt\n",
      "import shutil"
     ],
     "language": "python",
     "metadata": {},
     "outputs": [],
     "prompt_number": 1
    },
    {
     "cell_type": "code",
     "collapsed": false,
     "input": [
      "shutil.copyfile(\"CMS-PAS-SUS-16-049_Figure_007.root\",\"CMS-PAS-SUS-16-049_Figure_007_fix.root\")\n",
      "f = ROOT.TFile(\"CMS-PAS-SUS-16-049_Figure_007_fix.root\",\"update\")"
     ],
     "language": "python",
     "metadata": {},
     "outputs": [],
     "prompt_number": 2
    },
    {
     "cell_type": "code",
     "collapsed": false,
     "input": [
      "h_orig = f.Get(\"hXsec_obs_corr\")\n",
      "h = h_orig.Clone(\"hXsec_obs_corr_fix\")"
     ],
     "language": "python",
     "metadata": {},
     "outputs": [],
     "prompt_number": 3
    },
    {
     "cell_type": "code",
     "collapsed": false,
     "input": [
      "#Region to be excluded:\n",
      "xmax = 290.\n",
      "x1,y1 = 150.,0.\n",
      "x2,y2 = 260.,111.\n",
      "a1 = (y2-y1)/(x2-x1)\n",
      "b1 = (y1-a1*x1)\n",
      "x1,y1 = 200.,0.\n",
      "x2,y2 = 290.,90.\n",
      "a2 = (y2-y1)/(x2-x1)\n",
      "b2 = (y1-a1*x1)\n",
      "f1 = lambda x: a1*x + b1\n",
      "f2 = lambda x: a2*x + b2"
     ],
     "language": "python",
     "metadata": {},
     "outputs": [],
     "prompt_number": 4
    },
    {
     "cell_type": "code",
     "collapsed": false,
     "input": [
      "allPts = []\n",
      "bandPts = []\n",
      "for i in range(h.GetNbinsX()):\n",
      "    xbin = h.GetXaxis().GetBinCenter(i+1)\n",
      "    for j in range(h.GetNbinsY()):\n",
      "        if h.GetBinContent(i+1,j+1) == 0.: continue\n",
      "        ybin = h.GetYaxis().GetBinCenter(j+1)        \n",
      "        if f2(xbin) < ybin < f1(xbin) and xbin < xmax:            \n",
      "            h.SetBinContent(i+1,j+1,0.)\n",
      "            bandPts.append([xbin,ybin])\n",
      "        else:\n",
      "            allPts.append([xbin,ybin])"
     ],
     "language": "python",
     "metadata": {},
     "outputs": [],
     "prompt_number": 5
    },
    {
     "cell_type": "code",
     "collapsed": false,
     "input": [
      "allPts = np.array(allPts)\n",
      "bandPts = np.array(bandPts)\n",
      "print allPts[:,0]"
     ],
     "language": "python",
     "metadata": {},
     "outputs": [
      {
       "output_type": "stream",
       "stream": "stdout",
       "text": [
        "[  156.25   156.25   156.25 ...,  1493.75  1493.75  1493.75]\n"
       ]
      }
     ],
     "prompt_number": 6
    },
    {
     "cell_type": "code",
     "collapsed": false,
     "input": [
      "plt.plot(allPts[:,0],allPts[:,1],'bo',bandPts[:,0],bandPts[:,1],'ro')\n",
      "plt.show()"
     ],
     "language": "python",
     "metadata": {},
     "outputs": [],
     "prompt_number": 7
    },
    {
     "cell_type": "code",
     "collapsed": false,
     "input": [
      "f.cd()\n",
      "h.SetName(\"hXsec_obs_corr_fix\")\n",
      "h.Write()"
     ],
     "language": "python",
     "metadata": {},
     "outputs": [
      {
       "metadata": {},
       "output_type": "pyout",
       "prompt_number": 6,
       "text": [
        "143576"
       ]
      }
     ],
     "prompt_number": 6
    },
    {
     "cell_type": "code",
     "collapsed": false,
     "input": [
      "f.Close()"
     ],
     "language": "python",
     "metadata": {},
     "outputs": [],
     "prompt_number": 7
    },
    {
     "cell_type": "code",
     "collapsed": false,
     "input": [],
     "language": "python",
     "metadata": {},
     "outputs": []
    }
   ],
   "metadata": {}
  }
 ]
}