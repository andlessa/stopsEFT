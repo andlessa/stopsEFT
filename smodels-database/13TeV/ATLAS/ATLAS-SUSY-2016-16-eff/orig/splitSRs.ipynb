{
 "cells": [
  {
   "cell_type": "code",
   "execution_count": 1,
   "metadata": {},
   "outputs": [],
   "source": [
    "import numpy as np\n",
    "from matplotlib import pyplot as plt"
   ]
  },
  {
   "cell_type": "code",
   "execution_count": 2,
   "metadata": {},
   "outputs": [],
   "source": [
    "accData = np.genfromtxt('Table87.csv',delimiter=',',names=True,skip_header=6, skip_footer=563-285)\n",
    "effData = np.genfromtxt('Table88.csv',delimiter=',',names=True,skip_header=6, skip_footer=563-285)\n",
    "SRData = np.genfromtxt('Table87.csv',delimiter=',',names=True,skip_header=285,dtype=None,encoding='utf8')"
   ]
  },
  {
   "cell_type": "code",
   "execution_count": 3,
   "metadata": {},
   "outputs": [],
   "source": [
    "accDataDict = dict([[(pt[0],pt[1]),pt[2]] for pt in accData])\n",
    "effDataDict = dict([[(pt[0],pt[1]),pt[2]] for pt in effData])\n",
    "SRDataDict = dict([[(pt[0],pt[1]),pt[2]] for pt in SRData])"
   ]
  },
  {
   "cell_type": "code",
   "execution_count": 4,
   "metadata": {},
   "outputs": [],
   "source": [
    "data = {}\n",
    "for pt in accDataDict:    \n",
    "    if not pt in SRDataDict:\n",
    "        print('Missing SR for point',pt)\n",
    "        continue    \n",
    "    if not pt in effDataDict:\n",
    "        eff = 0.\n",
    "        print('Missing efficiency for point',pt)\n",
    "    else:\n",
    "        eff = effDataDict[pt]\n",
    "    sr = SRDataDict[pt]\n",
    "    acc = accDataDict[pt]\n",
    "    if not sr in data:\n",
    "        data[sr] = []\n",
    "    data[sr].append([pt[1],pt[0],eff*acc])"
   ]
  },
  {
   "cell_type": "code",
   "execution_count": 6,
   "metadata": {},
   "outputs": [
    {
     "data": {
      "image/png": "[encoded data removed]",
      "text/plain": [
       "<Figure size 432x288 with 1 Axes>"
      ]
     },
     "metadata": {
      "needs_background": "light"
     },
     "output_type": "display_data"
    }
   ],
   "source": [
    "for k in data:\n",
    "    pts = np.array(data[k])\n",
    "#     plt.scatter(pts[:,0],pts[:,1],label=k)\n",
    "    plt.scatter(pts[:,0],pts[:,0]-pts[:,1],label=k)\n",
    "plt.legend()\n",
    "plt.tight_layout()\n",
    "plt.show()"
   ]
  },
  {
   "cell_type": "code",
   "execution_count": 6,
   "metadata": {},
   "outputs": [
    {
     "name": "stdout",
     "output_type": "stream",
     "text": [
      "SRs= dict_keys(['tN_diag_low', 'tN_med', 'tN_high', 'tN_diag_med', 'bWN', 'tN_diag_high', 'bffN'])\n"
     ]
    }
   ],
   "source": [
    "print('SRs=',data.keys())"
   ]
  },
  {
   "cell_type": "code",
   "execution_count": 7,
   "metadata": {},
   "outputs": [],
   "source": [
    "# for k in data:\n",
    "#     pts = np.array(data[k])\n",
    "#     np.savetxt('eff_%s.csv'%k,pts,delimiter=',',fmt='%.5g',\n",
    "#                header='M(STOP) [GeV],M(NEUTRALINO) [GeV],ACCEPTANCE*EFFICIENCY')"
   ]
  },
  {
   "cell_type": "code",
   "execution_count": 8,
   "metadata": {},
   "outputs": [],
   "source": [
    "accData = np.genfromtxt('Table89.csv',delimiter=',',names=True,skip_header=6, skip_footer=158-81)\n",
    "effData = np.genfromtxt('Table90.csv',delimiter=',',names=True,skip_header=6, skip_footer=158-81)\n",
    "SRData = np.genfromtxt('Table89.csv',delimiter=',',names=True,skip_header=81,dtype=None,encoding='utf8')"
   ]
  },
  {
   "cell_type": "code",
   "execution_count": 9,
   "metadata": {},
   "outputs": [],
   "source": [
    "accDataDict = dict([[(pt[0],pt[1]),pt[2]] for pt in accData])\n",
    "effDataDict = dict([[(pt[0],pt[1]),pt[2]] for pt in effData])\n",
    "SRDataDict = dict([[(pt[0],pt[1]),pt[2]] for pt in SRData])"
   ]
  },
  {
   "cell_type": "code",
   "execution_count": 10,
   "metadata": {},
   "outputs": [],
   "source": [
    "data = {}\n",
    "for pt in accDataDict:    \n",
    "    if not pt in SRDataDict:\n",
    "        print('Missing SR for point',pt)\n",
    "        continue    \n",
    "    if not pt in effDataDict:\n",
    "        eff = 0.\n",
    "        print('Missing efficiency for point',pt)\n",
    "    else:\n",
    "        eff = effDataDict[pt]\n",
    "    sr = SRDataDict[pt]\n",
    "    acc = accDataDict[pt]\n",
    "    if not sr in data:\n",
    "        data[sr] = []\n",
    "    data[sr].append([pt[1],pt[0],eff*acc])"
   ]
  },
  {
   "cell_type": "code",
   "execution_count": 11,
   "metadata": {},
   "outputs": [
    {
     "data": {
      "image/png": "[encoded data removed]",
      "text/plain": [
       "<Figure size 432x288 with 1 Axes>"
      ]
     },
     "metadata": {
      "needs_background": "light"
     },
     "output_type": "display_data"
    }
   ],
   "source": [
    "for k in data:\n",
    "    pts = np.array(data[k])\n",
    "    plt.scatter(pts[:,0],pts[:,1],label=k)\n",
    "plt.legend()\n",
    "plt.tight_layout()\n",
    "plt.show()"
   ]
  },
  {
   "cell_type": "code",
   "execution_count": 12,
   "metadata": {},
   "outputs": [],
   "source": [
    "# for k in data:\n",
    "#     pts = np.array(data[k])\n",
    "#     np.savetxt('eff_deltaM_%s.csv'%k,pts,delimiter=',',fmt='%.5g',\n",
    "#                header='M(STOP) [GeV],M(STOP)-M(NEUTRALINO) [GeV],ACCEPTANCE*EFFICIENCY')"
   ]
  },
  {
   "cell_type": "code",
   "execution_count": null,
   "metadata": {},
   "outputs": [],
   "source": []
  }
 ],
 "metadata": {
  "kernelspec": {
   "display_name": "Python 3",
   "language": "python",
   "name": "python3"
  },
  "language_info": {
   "codemirror_mode": {
    "name": "ipython",
    "version": 3
   },
   "file_extension": ".py",
   "mimetype": "text/x-python",
   "name": "python",
   "nbconvert_exporter": "python",
   "pygments_lexer": "ipython3",
   "version": "3.7.3"
  }
 },
 "nbformat": 4,
 "nbformat_minor": 2
}
