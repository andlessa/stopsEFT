{
 "cells": [
  {
   "cell_type": "code",
   "execution_count": 1,
   "metadata": {
    "collapsed": false
   },
   "outputs": [],
   "source": [
    "import sys\n",
    "sys.path.append('/home/lessa/smodels/')\n",
    "sys.path.append('/home/lessa/smodels-utils/')\n",
    "from smodels.experiment.databaseObj import Database\n",
    "from smodels.tools.databaseBrowser import Browser"
   ]
  },
  {
   "cell_type": "code",
   "execution_count": 2,
   "metadata": {
    "collapsed": false
   },
   "outputs": [],
   "source": [
    "database = Database('/home/lessa/smodels-database/')"
   ]
  },
  {
   "cell_type": "code",
   "execution_count": 3,
   "metadata": {
    "collapsed": false
   },
   "outputs": [
    {
     "name": "stdout",
     "output_type": "stream",
     "text": [
      "11\n"
     ]
    }
   ],
   "source": [
    "allResults = [exp  for exp in database.getExpResults(useSuperseded = True, useNonValidated = True)]\n",
    "fastlimResults = {}\n",
    "for exp in allResults:\n",
    "    if hasattr(exp.globalInfo,'contact') and exp.globalInfo.contact == 'fastlim':\n",
    "        fastlimResults[exp.globalInfo.id] = exp\n",
    "print len(fastlimResults)"
   ]
  },
  {
   "cell_type": "code",
   "execution_count": null,
   "metadata": {
    "collapsed": false
   },
   "outputs": [],
   "source": [
    "from validation.plottingFuncs import getExclusionCurvesFor\n",
    "canBeValidated = {}\n",
    "for exp in allResults:\n",
    "    if exp.globalInfo.id in fastlimResults:\n",
    "        canBeValidated[exp.globalInfo.id] = []\n",
    "        for tx in fastlimResults[exp.globalInfo.id].getTxNames():\n",
    "            tgraphs = getExclusionCurvesFor(fastlimResults[exp.globalInfo.id],tx.txName)\n",
    "            if tgraphs:\n",
    "                canBeValidated[exp.globalInfo.id].append({'txname' : tx, 'graphs': tgraphs})"
   ]
  },
  {
   "cell_type": "code",
   "execution_count": 8,
   "metadata": {
    "collapsed": false
   },
   "outputs": [
    {
     "name": "stdout",
     "output_type": "stream",
     "text": [
      "ATLAS-CONF-2013-048\n",
      "['T2tt']\n",
      "ATLAS-CONF-2013-061\n",
      "['T1bbbb', 'T1tttt']\n",
      "ATLAS-CONF-2013-053\n",
      "['T2bb']\n",
      "ATLAS-CONF-2013-047\n",
      "['TGQ', 'T2', 'T1']\n",
      "ATLAS-CONF-2013-037\n",
      "['T2tt']\n",
      "ATLAS-CONF-2013-024\n",
      "['T2tt']\n"
     ]
    }
   ],
   "source": [
    "for  exp in canBeValidated:\n",
    "    if  not canBeValidated[exp]: continue\n",
    "    print exp\n",
    "    txs = set([tx['txname'].txName for tx in canBeValidated[exp]])\n",
    "    print list(txs)"
   ]
  },
  {
   "cell_type": "code",
   "execution_count": null,
   "metadata": {
    "collapsed": true
   },
   "outputs": [],
   "source": [
    "doneValidationPlot = {'ATLAS-CONF-2013-048' : '17/05/2016', 'ATLAS-CONF-2013-053' : '17/05/2016', \n",
    "                      'ATLAS-CONF-2013-061' : '22/05/2016'}"
   ]
  }
 ],
 "metadata": {
  "kernelspec": {
   "display_name": "Python 2",
   "language": "python",
   "name": "python2"
  },
  "language_info": {
   "codemirror_mode": {
    "name": "ipython",
    "version": 2
   },
   "file_extension": ".py",
   "mimetype": "text/x-python",
   "name": "python",
   "nbconvert_exporter": "python",
   "pygments_lexer": "ipython2",
   "version": "2.7.12"
  }
 },
 "nbformat": 4,
 "nbformat_minor": 0
}
