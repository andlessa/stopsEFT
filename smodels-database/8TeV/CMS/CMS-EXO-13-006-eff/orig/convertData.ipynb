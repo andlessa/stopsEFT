{
 "cells": [
  {
   "cell_type": "code",
   "execution_count": 1,
   "metadata": {},
   "outputs": [],
   "source": [
    "import numpy as np"
   ]
  },
  {
   "cell_type": "code",
   "execution_count": 2,
   "metadata": {},
   "outputs": [
    {
     "name": "stdout",
     "output_type": "stream",
     "text": [
      "['mhscp', 'xs', 'eff_opt', 'err_opt', 'eff_M000', 'err_M000', 'eff_M100', 'err_M100', 'eff_M200', 'err_M200', 'eff_M300', 'err_M300']\n"
     ]
    }
   ],
   "source": [
    "dataFile = './M1_stauHSCP_1509_00473.dat'\n",
    "with open(dataFile,'r') as f:\n",
    "    header = f.readlines()[0].replace('#','').split()\n",
    "print header"
   ]
  },
  {
   "cell_type": "code",
   "execution_count": 3,
   "metadata": {},
   "outputs": [],
   "source": [
    "data = np.loadtxt(dataFile, dtype = {'names' : header, 'formats' : [float]*len(header)})"
   ]
  },
  {
   "cell_type": "code",
   "execution_count": 5,
   "metadata": {},
   "outputs": [
    {
     "name": "stdout",
     "output_type": "stream",
     "text": [
      "eff_HSCPM1b_c000.txt\n",
      "eff_HSCPM1b_c100.txt\n",
      "eff_HSCPM1b_c200.txt\n",
      "eff_HSCPM1b_c300.txt\n"
     ]
    }
   ],
   "source": [
    "mrecStr = [x for x in header if 'eff_M' in x]\n",
    "for m in mrecStr:\n",
    "    newFile = 'eff_HSCPM1b_c'+m.replace('eff_M','')+'.txt'\n",
    "    fnew = open(newFile,'w')\n",
    "    ieff = header.index(m)\n",
    "    imhscp = header.index('mhscp')\n",
    "    fnew.write('## HSCPM1b efficiencies\\n')\n",
    "    fnew.write('## x    effi\\n')\n",
    "    mrec = eval(m.replace('eff_M',''))\n",
    "    trimdata = data[data['mhscp']>mrec/0.6]\n",
    "    pts = zip(trimdata['mhscp'],trimdata[m])\n",
    "    pts = sorted(pts)\n",
    "    np.savetxt(fnew,pts,delimiter='  ',fmt='%.6e')\n",
    "    fnew.close()\n",
    "    print newFile"
   ]
  },
  {
   "cell_type": "code",
   "execution_count": null,
   "metadata": {},
   "outputs": [],
   "source": []
  }
 ],
 "metadata": {
  "kernelspec": {
   "display_name": "Python 2",
   "language": "python",
   "name": "python2"
  },
  "language_info": {
   "codemirror_mode": {
    "name": "ipython",
    "version": 2
   },
   "file_extension": ".py",
   "mimetype": "text/x-python",
   "name": "python",
   "nbconvert_exporter": "python",
   "pygments_lexer": "ipython2",
   "version": "2.7.14"
  }
 },
 "nbformat": 4,
 "nbformat_minor": 2
}
