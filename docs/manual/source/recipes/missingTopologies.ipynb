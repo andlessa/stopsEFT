{
 "cells": [
  {
   "cell_type": "markdown",
   "metadata": {},
   "source": [
    "# How To: Find missing topologies that are not covered by the database"
   ]
  },
  {
   "cell_type": "code",
   "execution_count": 1,
   "metadata": {},
   "outputs": [],
   "source": [
    "# Set up the path to SModelS installation folder\n",
    "import sys; sys.path.append(\".\"); import smodels_paths"
   ]
  },
  {
   "cell_type": "code",
   "execution_count": 2,
   "metadata": {},
   "outputs": [],
   "source": [
    "# Import those parts of smodels that are needed for this exercise\n",
    "from smodels.tools.physicsUnits import TeV, GeV, fb\n",
    "from smodels.installation import installDirectory\n",
    "from smodels.share.models.mssm import BSMList\n",
    "from smodels.share.models.SMparticles import SMList\n",
    "from smodels.theory.model import Model\n",
    "from smodels.theory import decomposer\n",
    "from smodels.theory.theoryPrediction import theoryPredictionsFor\n",
    "from smodels.experiment.databaseObj import Database\n",
    "from smodels.tools import coverage"
   ]
  },
  {
   "cell_type": "code",
   "execution_count": 3,
   "metadata": {},
   "outputs": [],
   "source": [
    "# Define the SLHA input file name\n",
    "filename=\"inputFiles/slha/gluino_squarks.slha\" \n",
    "model = Model(BSMparticles = BSMList, SMparticles = SMList)\n",
    "model.updateParticles(inputFile=filename)"
   ]
  },
  {
   "cell_type": "code",
   "execution_count": 4,
   "metadata": {},
   "outputs": [],
   "source": [
    "# Load the database, do the decomposition and compute theory predictions:\n",
    "# (Look at the theory predictions HowTo to learn how to compute theory predictions)\n",
    "database = Database(\"official\")\n",
    "expResults = database.getExpResults()\n",
    "topList = decomposer.decompose(model, sigcut = 0.03 * fb, doCompress=True, doInvisible=True,minmassgap = 5* GeV)\n",
    "#(Computing theory predictions will tag the elements which have been tested)\n",
    "allThPredictions = [theoryPredictionsFor(exp, topList) for exp in expResults]"
   ]
  },
  {
   "cell_type": "code",
   "execution_count": 5,
   "metadata": {},
   "outputs": [],
   "source": [
    "# Create missing Topologies object\n",
    "uncovered = coverage.Uncovered(topList)"
   ]
  },
  {
   "cell_type": "code",
   "execution_count": 6,
   "metadata": {},
   "outputs": [
    {
     "name": "stdout",
     "output_type": "stream",
     "text": [
      "Total missing topology cross section (fb):  2.964E+03\n",
      "Total cross section where we are outside the mass grid (fb):  1.725E+00\n",
      "Total cross section with longlived decays (fb):  0.000E+00\n",
      "Total cross section with displaced decays (fb):  0.000E+00\n",
      "Total cross section with MET decays (fb):  2.964E+03\n"
     ]
    }
   ],
   "source": [
    "# Print basic information about coverage:\n",
    "print (\"Total missing topology cross section (fb): %10.3E\" %(uncovered.missingTopos.getTotalXsec()))\n",
    "print (\"Total cross section where we are outside the mass grid (fb): %10.3E\" %(uncovered.outsideGrid.getTotalXsec()))\n",
    "print (\"Total cross section with longlived decays (fb): %10.3E\" %(uncovered.longLived.getTotalXsec()))\n",
    "print (\"Total cross section with displaced decays (fb): %10.3E\" %(uncovered.displaced.getTotalXsec()))  \n",
    "print (\"Total cross section with MET decays (fb): %10.3E\" %(uncovered.MET.getTotalXsec())) "
   ]
  },
  {
   "cell_type": "code",
   "execution_count": 7,
   "metadata": {},
   "outputs": [
    {
     "name": "stdout",
     "output_type": "stream",
     "text": [
      "\n",
      "missing topology: [[],[]]  (METonly,METonly)\n",
      "Contributing elements:\n",
      "[[],[]] , xsection: ['8.00E+00 [TeV]:4.81E-04 [pb] (1000022, 1000022)', '1.30E+01 [TeV]:1.58E-03 [pb] (1000022, 1000022)']\n",
      "\n",
      "missing topology: [[],[[jet]]]  (METonly,prompt)\n",
      "Contributing elements:\n",
      "[[],[[c]]] , xsection: ['8.00E+00 [TeV]:1.23E-05 [pb] (-2000004, 1000022)', '1.30E+01 [TeV]:8.09E-05 [pb] (-2000004, 1000022)']\n",
      "[[],[[q]]] , xsection: ['8.00E+00 [TeV]:1.19E-05 [pb] (1000022, 2000001)', '1.30E+01 [TeV]:1.83E-04 [pb] (1000022, 2000001)']\n",
      "[[],[[q]]] , xsection: ['8.00E+00 [TeV]:6.15E-04 [pb] (1000022, 2000002)', '1.30E+01 [TeV]:3.15E-03 [pb] (1000022, 2000002)']\n",
      "\n",
      "missing topology: [[],[[W]]]  (METonly,prompt)\n",
      "Contributing elements:\n",
      "[[],[[W+]]] , xsection: ['8.00E+00 [TeV]:2.40E-04 [pb] (1000022, 1000024)', '1.30E+01 [TeV]:2.63E-04 [pb] (1000022, 1000024)']\n",
      "\n",
      "missing topology: [[],[[t,t]]]  (METonly,prompt)\n",
      "Contributing elements:\n",
      "[[],[[t+,t-]]] , xsection: ['8.00E+00 [TeV]:1.71E-05 [pb] (1000021, 1000022)', '1.30E+01 [TeV]:9.70E-05 [pb] (1000021, 1000022)']\n",
      "\n",
      "missing topology: [[],[[b,b]]]  (METonly,prompt)\n",
      "Contributing elements:\n",
      "[[],[[b,b]]] , xsection: ['8.00E+00 [TeV]:1.13E-05 [pb] (1000021, 1000022)', '1.30E+01 [TeV]:6.43E-05 [pb] (1000021, 1000022)']\n"
     ]
    }
   ],
   "source": [
    "# Get list of topologies which are not tested by any result:\n",
    "missingTopos = uncovered.missingTopos\n",
    "# print information about the first few missing topologies and\n",
    "# the elements contributing to the topology: \n",
    "for genEl in missingTopos.generalElements[:5]:\n",
    "    print ('\\nmissing topology:',str(genEl._outputDescription))\n",
    "    print ('Contributing elements:')\n",
    "    for el in sorted(genEl._contributingElements, key=lambda el: el.weight):\n",
    "        print (el,', xsection:',el.weight)"
   ]
  },
  {
   "cell_type": "code",
   "execution_count": 9,
   "metadata": {},
   "outputs": [
    {
     "name": "stdout",
     "output_type": "stream",
     "text": [
      "\n",
      "outside the grid topology [[],[]]  (METonly,METonly)\n",
      "Contributing elements:\n",
      "[[],[]] mass= [[1.29E+02 [GeV]], [1.29E+02 [GeV]]]\n",
      "\n",
      "outside the grid topology [[],[[jet]]]  (METonly,prompt)\n",
      "Contributing elements:\n",
      "[[],[[c]]] mass= [[1.29E+02 [GeV]], [9.91E+02 [GeV], 1.29E+02 [GeV]]]\n",
      "[[],[[q]]] mass= [[1.29E+02 [GeV]], [9.92E+02 [GeV], 1.29E+02 [GeV]]]\n",
      "[[],[[q]]] mass= [[1.29E+02 [GeV]], [9.91E+02 [GeV], 1.29E+02 [GeV]]]\n",
      "\n",
      "outside the grid topology [[],[[W]]]  (METonly,prompt)\n",
      "Contributing elements:\n",
      "[[],[[W+]]] mass= [[1.29E+02 [GeV]], [2.69E+02 [GeV], 1.29E+02 [GeV]]]\n",
      "\n",
      "outside the grid topology [[],[[t,t]]]  (METonly,prompt)\n",
      "Contributing elements:\n",
      "[[],[[t+,t-]]] mass= [[1.29E+02 [GeV]], [8.65E+02 [GeV], 1.29E+02 [GeV]]]\n",
      "\n",
      "outside the grid topology [[],[[b,b]]]  (METonly,prompt)\n",
      "Contributing elements:\n",
      "[[],[[b,b]]] mass= [[1.29E+02 [GeV]], [8.65E+02 [GeV], 1.29E+02 [GeV]]]\n"
     ]
    }
   ],
   "source": [
    "# Get list of topologies which are outside the upper limit and efficiency map grids:\n",
    "outsideGrid = uncovered.outsideGrid\n",
    "# print information about the first few missing topologies and\n",
    "# the elements contributing to the topology: \n",
    "for genEl in missingTopos.generalElements[:5]:\n",
    "    print ('\\noutside the grid topology',str(genEl._outputDescription))\n",
    "    print ('Contributing elements:')\n",
    "    for el in sorted(genEl._contributingElements, key=lambda el: el.weight):\n",
    "        print (el,'mass=',el.mass)        "
   ]
  },
  {
   "cell_type": "code",
   "execution_count": null,
   "metadata": {},
   "outputs": [],
   "source": []
  }
 ],
 "metadata": {
  "kernelspec": {
   "display_name": "Python 3",
   "language": "python",
   "name": "python3"
  },
  "language_info": {
   "codemirror_mode": {
    "name": "ipython",
    "version": 3
   },
   "file_extension": ".py",
   "mimetype": "text/x-python",
   "name": "python",
   "nbconvert_exporter": "python",
   "pygments_lexer": "ipython3",
   "version": "3.6.7"
  }
 },
 "nbformat": 4,
 "nbformat_minor": 1
}
