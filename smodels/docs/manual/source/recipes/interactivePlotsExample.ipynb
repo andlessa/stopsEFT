{
 "cells": [
  {
   "cell_type": "markdown",
   "metadata": {},
   "source": [
    "### Import the plot creator"
   ]
  },
  {
   "cell_type": "code",
   "execution_count": 1,
   "metadata": {},
   "outputs": [],
   "source": [
    "# Set up the path to SModelS installation folder\n",
    "import sys,os\n",
    "sys.path.append(\".\")\n",
    "import smodels_paths\n",
    "from smodels.tools.interactivePlots import makePlots\n",
    "import smodels"
   ]
  },
  {
   "cell_type": "markdown",
   "metadata": {},
   "source": [
    "### Define the input folders, the parameters file and where to store the plots"
   ]
  },
  {
   "cell_type": "code",
   "execution_count": 3,
   "metadata": {},
   "outputs": [],
   "source": [
    "smodelsOutput = 'inputFiles/scanExample/smodels-output'\n",
    "slhaFiles = 'inputFiles/scanExample/slha'\n",
    "parameters = './iplots_parameters.py'\n",
    "outputFolder = './'\n",
    "npoints = -1 #If negative will use all the points in the folders"
   ]
  },
  {
   "cell_type": "markdown",
   "metadata": {},
   "source": [
    "### Create plots"
   ]
  },
  {
   "cell_type": "code",
   "execution_count": 4,
   "metadata": {},
   "outputs": [
    {
     "name": "stderr",
     "output_type": "stream",
     "text": [
      "INFO in interactivePlots.loadParameters() in 64: Reading parameters from ./iplots_parameters.py ...\n",
      "INFO in interactivePlots.loadData() in 195: Reading data folders inputFiles/scanExample/smodels-output and inputFiles/scanExample/slha ...\n",
      "INFO in interactivePlots.makePlots() in 237: Making plots...\n",
      "INFO in interactivePlots.makePlots() in 277: Generation of interactive plots finished. Go to: \n",
      " .//index.html \n",
      " to see the plots.\n"
     ]
    },
    {
     "name": "stdout",
     "output_type": "stream",
     "text": [
      "create_index_html ./\n"
     ]
    }
   ],
   "source": [
    "plotsOutput = makePlots(smodelsOutput,slhaFiles,outputFolder,parameters,npoints,verbosity='info')"
   ]
  },
  {
   "cell_type": "markdown",
   "metadata": {},
   "source": [
    "### Display the output"
   ]
  },
  {
   "cell_type": "code",
   "execution_count": 5,
   "metadata": {},
   "outputs": [],
   "source": [
    "from IPython.core.display import display,HTML"
   ]
  },
  {
   "cell_type": "code",
   "execution_count": 6,
   "metadata": {},
   "outputs": [
    {
     "data": {
      "text/html": [
       "<html><head><font size=6>Smodels interactive plots.</font></head><p>Analysis: <a href=Analysis_all.html>all</a> <a href=Analysis_non-excluded.html>non-excluded</a> <a href=Analysis_excluded.html>excluded</a> </p><p>Tx: <a href=Tx_all.html>all</a> <a href=Tx_non-excluded.html>non-excluded</a> <a href=Tx_excluded.html>excluded</a> </p><p>chi2: <a href=chi2_all.html>all</a> <a href=chi2_non-excluded.html>non-excluded</a> <a href=chi2_excluded.html>excluded</a> </p><p>MT_max: <a href=MT_max_all.html>all</a> <a href=MT_max_non-excluded.html>non-excluded</a> <a href=MT_max_excluded.html>excluded</a> </p><p>MT_max_xsec: <a href=MT_max_xsec_all.html>all</a> <a href=MT_max_xsec_non-excluded.html>non-excluded</a> <a href=MT_max_xsec_excluded.html>excluded</a> </p><p>r_max: <a href=r_max_all.html>all</a> <a href=r_max_non-excluded.html>non-excluded</a> <a href=r_max_excluded.html>excluded</a> </p><p>MT_long_xsec: <a href=MT_long_xsec_all.html>all</a> <a href=MT_long_xsec_non-excluded.html>non-excluded</a> <a href=MT_long_xsec_excluded.html>excluded</a> </p><p>MT_asym_xsec: <a href=MT_asym_xsec_all.html>all</a> <a href=MT_asym_xsec_non-excluded.html>non-excluded</a> <a href=MT_asym_xsec_excluded.html>excluded</a> </p><p>MT_total_xsec: <a href=MT_total_xsec_all.html>all</a> <a href=MT_total_xsec_non-excluded.html>non-excluded</a> <a href=MT_total_xsec_excluded.html>excluded</a> </p>"
      ],
      "text/plain": [
       "<IPython.core.display.HTML object>"
      ]
     },
     "metadata": {},
     "output_type": "display_data"
    }
   ],
   "source": [
    "#Main page (to open the plots go to the plots output folder and open them with the browser)\n",
    "mainFile = open(plotsOutput + '/index.html','r')\n",
    "display(HTML(mainFile.read()))\n",
    "mainFile.close()"
   ]
  },
  {
   "cell_type": "code",
   "execution_count": 2,
   "metadata": {},
   "outputs": [
    {
     "data": {
      "text/plain": [
       "'/home/walten/git/smodels/docs/manual/source/recipes'"
      ]
     },
     "execution_count": 2,
     "metadata": {},
     "output_type": "execute_result"
    }
   ],
   "source": [
    "os.getcwd()"
   ]
  },
  {
   "cell_type": "code",
   "execution_count": null,
   "metadata": {},
   "outputs": [],
   "source": []
  }
 ],
 "metadata": {
  "kernelspec": {
   "display_name": "Python 3",
   "language": "python",
   "name": "python3"
  },
  "language_info": {
   "codemirror_mode": {
    "name": "ipython",
    "version": 3
   },
   "file_extension": ".py",
   "mimetype": "text/x-python",
   "name": "python",
   "nbconvert_exporter": "python",
   "pygments_lexer": "ipython3",
   "version": "3.6.7"
  }
 },
 "nbformat": 4,
 "nbformat_minor": 1
}
